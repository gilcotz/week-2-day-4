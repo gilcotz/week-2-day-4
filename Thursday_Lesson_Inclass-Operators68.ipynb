{
 "cells": [
  {
   "cell_type": "markdown",
   "metadata": {},
   "source": [
    "# Object-Oriented-Programming (OOP)"
   ]
  },
  {
   "cell_type": "markdown",
   "metadata": {},
   "source": [
    "## Tasks Today:\n",
    "\n",
    "   \n",
    "\n",
    "1) <b>Creating a Class (Initializing/Declaring)</b> <br>\n",
    "2) <b>Using a Class (Instantiating)</b> <br>\n",
    " &nbsp;&nbsp;&nbsp;&nbsp; a) Creating One Instance <br>\n",
    " &nbsp;&nbsp;&nbsp;&nbsp; b) Creating Multiple Instances <br>\n",
    " &nbsp;&nbsp;&nbsp;&nbsp; c) In-Class Exercise #1 - Create a Class 'Car' and instantiate three different makes of cars <br>\n",
    "3) <b>The \\__init\\__() Method</b> <br>\n",
    " &nbsp;&nbsp;&nbsp;&nbsp; a) The 'self' Attribute <br>\n",
    "4) <b>Class Attributes</b> <br>\n",
    " &nbsp;&nbsp;&nbsp;&nbsp; a) Initializing Attributes <br>\n",
    " &nbsp;&nbsp;&nbsp;&nbsp; b) Setting an Attribute Outside of the \\__init\\__() Method <br>\n",
    " &nbsp;&nbsp;&nbsp;&nbsp; c) Setting Defaults for Attributes <br>\n",
    " &nbsp;&nbsp;&nbsp;&nbsp; d) Accessing Class Attributes <br>\n",
    " &nbsp;&nbsp;&nbsp;&nbsp; e) Changing Class Attributes <br>\n",
    " &nbsp;&nbsp;&nbsp;&nbsp; f) In-Class Exercise #2 - Add a color and wheels attribute to your 'Car' class <br>\n",
    "5) <b>Class Methods</b> <br>\n",
    " &nbsp;&nbsp;&nbsp;&nbsp; a) Creating <br>\n",
    " &nbsp;&nbsp;&nbsp;&nbsp; b) Calling <br>\n",
    " &nbsp;&nbsp;&nbsp;&nbsp; c) Modifying an Attribute's Value Through a Method <br>\n",
    " &nbsp;&nbsp;&nbsp;&nbsp; d) Incrementing an Attribute's Value Through a Method <br>\n",
    " &nbsp;&nbsp;&nbsp;&nbsp; e) In-Class Exercise #3 - Add a method that prints the cars color and wheel number, then call them <br>\n",
    "6) <b>Inheritance</b> <br>\n",
    " &nbsp;&nbsp;&nbsp;&nbsp; a) Syntax for Inheriting from a Parent Class <br>\n",
    " &nbsp;&nbsp;&nbsp;&nbsp; b) The \\__init\\__() Method for a Child Class (super()) <br>\n",
    " &nbsp;&nbsp;&nbsp;&nbsp; c) Defining Attributes and Methods for the Child Class <br>\n",
    " &nbsp;&nbsp;&nbsp;&nbsp; d) Method Overriding <br>\n",
    " &nbsp;&nbsp;&nbsp;&nbsp; e) In-Class Exercise #4 - Create a class 'Ford' that inherits from 'Car' class and initialize it as a Blue Ford Explorer with 4 wheels using the super() method <br>\n",
    "7) <b>Classes as Attributes</b> <br>\n",
    "8) <b>Exercises</b> <br>\n",
    " &nbsp;&nbsp;&nbsp;&nbsp; a) Exercise #1 - Turn the shopping cart program from yesterday into an object-oriented program <br>"
   ]
  },
  {
   "cell_type": "code",
   "execution_count": null,
   "metadata": {},
   "outputs": [],
   "source": [
    "#In class shopping cart example"
   ]
  },
  {
   "cell_type": "code",
   "execution_count": null,
   "metadata": {},
   "outputs": [],
   "source": [
    "from IPython.display import clear_output\n",
    "\n",
    "# cart = []\n",
    "\n",
    "# #addding to cart\n",
    "\n",
    "# def additon(item):\n",
    "#     clear.output()\n",
    "#     cart.append(item)\n",
    "    \n",
    "# #remove from cart  \n",
    "# def removeItem(item):\n",
    "#     clear.output()\n",
    "#     Cart.remove(item)\n",
    "    \n",
    "# #show my cart\n",
    "# def showCart():\n",
    "#     print(\"here is your cat...\")\n",
    "#     for item in cart:\n",
    "#         print(itme)\n",
    "    \n",
    "# #clear cart\n",
    "# def clearcart():\n",
    "#     print(\"your cart is now empty...\")\n",
    "#     cart.clear()\n",
    "    \n",
    "\n",
    "    \n",
    "    \n",
    "# #program utilizing pre-built functionality\n",
    "# def shoppingCart():\n",
    "#     while True:\n",
    "#         response = 'what would you like to do? ADD / Remove / clear your cart'\n",
    "#         if response.lower() == 'quit':\n",
    "#             pritn('thanks for shopping with us ')\n",
    "#             showCart()\n",
    "#             break\n",
    "#         elif response.lower() == 'add':\n",
    "#             item_resp = input(\"waht would you like to add? \")\n",
    "#             addItem(item_resop)\n",
    "#         elif response.lower()  == \"remove\":\n",
    "#             showCart()\n",
    "#             remove_resp = input(\"what would you like to remve? \")\n",
    "#             removeItem(remkove_resp)\n",
    "#         elif response.lower == 'show':\n",
    "#             showCart()\n",
    "#         elif response.lower() == 'clear':\n",
    "#             clearCart()\n",
    "#         else:\n",
    "#             print('Sorry not a valid response...')\n",
    "\n",
    "# shoppingCart()\n",
    "    \n",
    "    \n",
    "\n",
    "    \n",
    "    \n",
    "    \n",
    "    \n",
    "# addItem('banana')\n",
    "# addItem('bread')\n",
    "# showCart()\n",
    "\n",
    "cart = []\n",
    "\n",
    "# Adding Item to cart\n",
    "\n",
    "def addItem(item):\n",
    "    clear_output()\n",
    "    cart.append(item)\n",
    "\n",
    "# Remove from cart\n",
    "def removeItem(item):\n",
    "    clear_output()\n",
    "    cart.remove(item)\n",
    "\n",
    "\n",
    "def showCart():\n",
    "    print(\"Here is your cart...\")\n",
    "    for item in cart:\n",
    "        print(item)\n",
    "\n",
    "# Clear Cart\n",
    "def clearCart():\n",
    "    print('Your cart is now empty...')\n",
    "    cart.clear()\n",
    "    \n",
    "\n",
    "# Program utilizing pre-built functionality\n",
    "def shoppingCart():\n",
    "    while True:\n",
    "        response = input(\"What would you like to do? Add / remove / show / clear your cart: \")\n",
    "        if response.lower() == 'quit':\n",
    "            print('Thanks for shopping with us!')\n",
    "            showCart()\n",
    "            break\n",
    "        elif response.lower() == 'add':\n",
    "            item_resp = input('What would you like to add?')\n",
    "            addItem(item_resp)\n",
    "        elif response.lower() == 'remove':\n",
    "            showCart()\n",
    "            remove_resp = input(\"What do you wanna remove? \")\n",
    "            removeItem(remove_resp)\n",
    "        elif response.lower() == 'show':\n",
    "            showCart()\n",
    "        elif response.lower() == 'clear':\n",
    "            clearCart()\n",
    "        else:\n",
    "            print('Sorry not a valid reponse...')\n",
    "shoppingCart()\n"
   ]
  },
  {
   "cell_type": "markdown",
   "metadata": {},
   "source": [
    "## Creating a Class (Initializing/Declaring)\n",
    "<p>When creating a class, function, or even a variable you are initializing that object. Initializing and Declaring occur at the same time in Python, whereas in lower level languages you have to declare an object before initializing it. This is the first step in the process of using a class.</p>"
   ]
  },
  {
   "cell_type": "code",
   "execution_count": null,
   "metadata": {},
   "outputs": [],
   "source": [
    "#valss Car: or class car():   this will execute the same. classes will be uppercase\n",
    "class Car():\n",
    "    wheels = 4\n",
    "    color = 'blue'"
   ]
  },
  {
   "cell_type": "markdown",
   "metadata": {},
   "source": [
    "## Using a Class (Instantiating)\n",
    "<p>The process of creating a class is called <i>Instantiating</i>. Each time you create a variable of that type of class, it is referred to as an <i>Instance</i> of that class. This is the second step in the process of using a class.</p>"
   ]
  },
  {
   "cell_type": "markdown",
   "metadata": {},
   "source": [
    "##### Creating One Instance"
   ]
  },
  {
   "cell_type": "code",
   "execution_count": null,
   "metadata": {},
   "outputs": [],
   "source": [
    "ford = Car()\n",
    "print(ford)\n",
    "\n",
    "print(ford.wheels)\n",
    "print(ford.color)\n"
   ]
  },
  {
   "cell_type": "markdown",
   "metadata": {},
   "source": [
    "##### Creating Multiple Instances"
   ]
  },
  {
   "cell_type": "code",
   "execution_count": null,
   "metadata": {},
   "outputs": [],
   "source": [
    "chevy = Car()\n",
    "honda = Car()\n",
    "Mazda = Car()\n",
    "\n",
    "\n",
    "print(Mazda.wheels)\n",
    "print(chevy.color)"
   ]
  },
  {
   "cell_type": "markdown",
   "metadata": {},
   "source": [
    "##### In-Class Exercise #1 - Create a Class 'Car' and Instantiate three different makes of cars"
   ]
  },
  {
   "cell_type": "code",
   "execution_count": null,
   "metadata": {},
   "outputs": [],
   "source": [
    "class Kar():\n",
    "    doors = 6\n",
    "    wheels = 3\n",
    "    sunroof = \n",
    "    color = 'black'\n",
    "    \n",
    "honda = Kar()\n",
    "nissan = Kar()\n",
    "toyota = Kar()\n",
    "\n",
    "print(honda.wheels)\n",
    "print(nissan.doors)\n",
    "print(toyota.sunroof)\n",
    "print(nissan.color)\n"
   ]
  },
  {
   "cell_type": "markdown",
   "metadata": {},
   "source": [
    "## The \\__init\\__() Method <br>\n",
    "<p>This method is used in almost every created class, and called only once upon the creation of the class instance. This method will initialize all variables needed for the object.</p>"
   ]
  },
  {
   "cell_type": "code",
   "execution_count": null,
   "metadata": {},
   "outputs": [],
   "source": [
    "#dunder double underscore init double underscore (__init__())\n",
    "\n",
    "class Toy():\n",
    "    kind = \"car\"\n",
    "    \n",
    "    def __init__(self, rooftop, horn, wheels):\n",
    "        self.rooftop = rooftop\n",
    "        self.horn = horn\n",
    "        self.wheels = wheels\n",
    "        \n",
    "hotwheels = Toy(1, 1, 4)\n",
    "tonka = Toy(3, 3, 18)\n",
    "\n",
    "print(hotwheels.wheels)  #without the print you will be able to see the result one at a time \n",
    "print(tonka.wheels)      #you add print to see the output with other outputs in the same function\n",
    "tonka.__dict__   #this will give you the dictionary of what the tonka has with rooftop, horn, wheels\n"
   ]
  },
  {
   "cell_type": "markdown",
   "metadata": {},
   "source": [
    "##### The 'self' Attribute <br>\n",
    "<p>This attribute is required to keep track of specific instance's attributes. Without the self attribute, the program would not know how to reference or keep track of an instance's attributes.</p>"
   ]
  },
  {
   "cell_type": "code",
   "execution_count": null,
   "metadata": {},
   "outputs": [],
   "source": [
    "# see above\n"
   ]
  },
  {
   "cell_type": "markdown",
   "metadata": {},
   "source": [
    "## Class Attributes <br>\n",
    "<p>While variables are inside of a class, they are referred to as attributes and not variables. When someone says 'attribute' you know they're speaking about a class. Attributes can be initialized through the init method, or outside of it.</p>"
   ]
  },
  {
   "cell_type": "markdown",
   "metadata": {},
   "source": [
    "##### Initializing Attributes"
   ]
  },
  {
   "cell_type": "code",
   "execution_count": null,
   "metadata": {},
   "outputs": [],
   "source": [
    "# see above"
   ]
  },
  {
   "cell_type": "markdown",
   "metadata": {},
   "source": [
    "##### Accessing Class Attributes"
   ]
  },
  {
   "cell_type": "code",
   "execution_count": null,
   "metadata": {
    "scrolled": true
   },
   "outputs": [],
   "source": [
    "# See Above\n",
    "tonka = Toy(1, 1, 4)\n",
    "tonka.rooftop\n",
    "tonka.wheels"
   ]
  },
  {
   "cell_type": "markdown",
   "metadata": {},
   "source": [
    "##### Setting Defaults for Attributes"
   ]
  },
  {
   "cell_type": "code",
   "execution_count": null,
   "metadata": {},
   "outputs": [],
   "source": [
    "class Human:\n",
    "    def __init__(self, eyes, height, activity, hair=\"brown\"):\n",
    "        self.eyes = eyes\n",
    "        self.height = height\n",
    "        self.activity = activity\n",
    "        self.hair = hair\n",
    "        \n",
    "nate = Human('blue', '6ft1in', True)\n",
    "nate.hair                               #you can only have one output at a time use print to get all outputs.\n",
    "julia = Human ('brown', '5ft10in', True, 'black')\n",
    "julia.hair"
   ]
  },
  {
   "cell_type": "markdown",
   "metadata": {},
   "source": [
    "##### Changing Class Attributes <br>\n",
    "<p>Keep in mind there are global class attributes and then there are attributes only available to each class instance which won't effect other classes.</p>"
   ]
  },
  {
   "cell_type": "code",
   "execution_count": null,
   "metadata": {},
   "outputs": [],
   "source": [
    "#changing the attributes\n",
    "\n",
    "print(f'BEFORE attibute change: {julia.hair}')\n",
    "      \n",
    "julia.hair = 'blonde'\n",
    "\n",
    "print(f'After attribute change: {julia.hair}')"
   ]
  },
  {
   "cell_type": "code",
   "execution_count": null,
   "metadata": {},
   "outputs": [],
   "source": []
  },
  {
   "cell_type": "markdown",
   "metadata": {},
   "source": [
    "##### In-Class Exercise #2 - Add a doors and seats attribute to your 'Car' class then print out two different instances with different doors and seats"
   ]
  },
  {
   "cell_type": "code",
   "execution_count": null,
   "metadata": {},
   "outputs": [],
   "source": [
    "class Cahr:\n",
    "    def __init__(self, doors=2, seats=2):\n",
    "        self.doors = doors\n",
    "        self.seats = seats\n",
    "        \n",
    "    def printAttributes(self):\n",
    "        print(f'This car has {self.doors} doors and {self.seats} seats!')\n",
    "jeep = Cahr(4)\n",
    "lambo = Cahr()           #to change the second parameter then you need to change yhe keyword like changing the seats the youneed to put seats=3\n",
    "print(jeep.doors)\n",
    "print(jeep.seats)\n",
    "print(lambo.doors)\n",
    "print(lambo.seats)\n",
    "\n",
    "jueep.printAttributes()    #this is for the def printAttributes(self):\n",
    "                           #print(f'This car has {self.doors} doors and {self.seats} seats!')"
   ]
  },
  {
   "cell_type": "markdown",
   "metadata": {},
   "source": [
    "## Class Methods <br>\n",
    "<p>While inside of a class, functions are referred to as 'methods'. If you hear someone mention methods, they're speaking about classes. Methods are essentially functions, but only callable on the instances of a class.</p>"
   ]
  },
  {
   "cell_type": "markdown",
   "metadata": {},
   "source": [
    "##### Creating"
   ]
  },
  {
   "cell_type": "code",
   "execution_count": null,
   "metadata": {},
   "outputs": [],
   "source": [
    "#crate a shopping bag\n",
    "class ShoppingBag:\n",
    "    \"\"\"  \n",
    "    the ShoppingBag class will have hanfles, cpacity, and items to placec inside\n",
    "    \n",
    "    Attributes for class:\n",
    "    - handles: expected to be an integer\n",
    "    - capacity:expected to be a string or integer                     #this is the doc \n",
    "    - itmes: expected to be a list\n",
    "    \n",
    "    \"\"\"\n",
    "    def __init__(self, handles, capacity, items):\n",
    "        self.handles = handles\n",
    "        self.capacity = capacity\n",
    "        self.items = items\n",
    "        \n",
    "    #method to show all items in items list\n",
    "    def showShoppingBag(self):\n",
    "        print(\"here are the items in your bag...\")\n",
    "        for item in self.items:\n",
    "            print(item)\n",
    "            \n",
    "            \n",
    "     #method to show capacity\n",
    "    def showCapacity(self):\n",
    "        print(f'Your current bag capacity is: {self.capacity}')\n",
    "        \n",
    "    #method to add items to bag\n",
    "    def addToShoppingBag(self):\n",
    "        product =input('what would you like to add? ')\n",
    "        self.items.append(product)\n",
    "        print(f'success! Here is your new bag: {self.items}')\n",
    "        \n",
    "        \n",
    "    #change cpacity dynamically\n",
    "    def changeCapacity(self, capacity):\n",
    "        self.capacity = capacity\n",
    "        \n",
    "        \n",
    "    #increase capacity of bag by 10\n",
    "    def increaseCapacity(self, changed_cap = 10):\n",
    "        if isinstance(self.capacity, str):\n",
    "            print('cannot do that here...')\n",
    "        else:\n",
    "            self.capacity += changed_cap\n",
    "        \n",
    "        \n",
    "        \n",
    "            \n",
    "            \n",
    "            \n",
    "            \n",
    "            \n",
    "            \n",
    "            \n",
    "            \n",
    "            \n",
    "pacsun = ShoppingBag(2,10,[])   \n",
    "pacsun.changeCapacity(25)\n",
    "pacsun.increaseCapacity()\n",
    "pacsun.showCapacity()          \n",
    "# # pacsun.showCapacity(self)\n",
    "# pacsun.items\n",
    "# pacsun. addToShoppingBag()\n",
    "# nordstrom = ShoppingBag(2, 10, ['shirt', 'shoes', 'hat'])\n",
    "# nordstrom.showShoppingBag()  "
   ]
  },
  {
   "cell_type": "markdown",
   "metadata": {},
   "source": [
    "##### Calling"
   ]
  },
  {
   "cell_type": "code",
   "execution_count": null,
   "metadata": {},
   "outputs": [],
   "source": [
    "# See Above\n",
    "#crate a new instance at shoppingBag\n",
    "whole_foods = ShoppingBag(2,10,[])\n",
    "def run():\n",
    "    while True:\n",
    "        response = input('What do you want to do? add/show/quit')\n",
    "        \n",
    "        if response.lower()== 'quit ':\n",
    "            whole_food.showShoppingBag()\n",
    "            print('Thank you for shopping at walmart! ')\n",
    "            break\n",
    "        elif response.lower()== 'add ':\n",
    "            whole_food.showShoppingBag()\n",
    "            \n",
    "        elif response.lower()== 'show':\n",
    "            whole_food.showShoppingBag()\n",
    "        else:\n",
    "            print('Not a valid input -- please retry ')\n",
    "            \n",
    "            \n",
    "            \n",
    "            \n",
    "run()"
   ]
  },
  {
   "cell_type": "markdown",
   "metadata": {},
   "source": [
    "##### Modifying an Attribute's Value Through a Method"
   ]
  },
  {
   "cell_type": "code",
   "execution_count": null,
   "metadata": {},
   "outputs": [],
   "source": [
    "mcdonalds = ShoppingBag(2,100,[])\n",
    "mcdonalds.showCapacity()\n",
    "mcadonalds.changeCapacity(50)\n",
    "macdonalds.showCpacity()"
   ]
  },
  {
   "cell_type": "markdown",
   "metadata": {},
   "source": [
    "##### Incrementing an Attribute's Value Through a Method"
   ]
  },
  {
   "cell_type": "code",
   "execution_count": null,
   "metadata": {},
   "outputs": [],
   "source": [
    "mcdonalds.incrimentCapacity()\n",
    "mcdonalds.showCapacity()"
   ]
  },
  {
   "cell_type": "markdown",
   "metadata": {},
   "source": [
    "##### In-Class Exercise #3 - Add a method that takes in three parameters of year, doors and seats and prints out a formatted print statement with make, model, year, seats, and doors"
   ]
  },
  {
   "cell_type": "code",
   "execution_count": null,
   "metadata": {},
   "outputs": [],
   "source": [
    "# Create class with 2 paramters inside of the __init__ which are make and model\n",
    "\n",
    "# Inside of the Car class create a method that has 4 parameter in total (self,year,door,seats)\n",
    "\n",
    "# Output: This car is from 2019 and is a Ford Expolorer and has 4 doors and 5 seats\n",
    "\n",
    "# carinstance.shoCar(2017,4 ,6)\n",
    "\n",
    "class Car:\n",
    "    def __init__(self, make, model ):\n",
    "        self.make = make\n",
    "        self.model = model\n",
    "        \n",
    "    def showCar(self, year, doors, seats):\n",
    "        print(f'This car if from {self.year} and is a {self.make} {self.model} and has {self.doors} doors and {self.seats} seats')\n",
    "        \n",
    "ford = Car('Ford', 'explorer') \n",
    "\n",
    "ford.showCar(2019,4,5)\n",
    "        "
   ]
  },
  {
   "cell_type": "markdown",
   "metadata": {},
   "source": [
    "## Inheritance <br>\n",
    "<p>You can create a child-parent relationship between two classes by using inheritance. What this allows you to do is have overriding methods, but also inherit traits from the parent class. Think of it as an actual parent and child, the child will inherit the parent's genes, as will the classes in OOP</p>"
   ]
  },
  {
   "cell_type": "markdown",
   "metadata": {},
   "source": [
    "##### Syntax for Inheriting from a Parent Class"
   ]
  },
  {
   "cell_type": "code",
   "execution_count": null,
   "metadata": {},
   "outputs": [],
   "source": [
    "#creation of our parent class--- Animal\n",
    "\n",
    "class Animal:\n",
    "    def __init__(self,name, species, legs = 4):\n",
    "        self.name = name\n",
    "        self.species = species\n",
    "        self.legs = legs\n",
    "        #generis Parent (Animal) Method- no overiide yet\n",
    "    def makeSound(self):\n",
    "        print('Make some generic sound ')\n",
    "#child class\n",
    "class Dog(Animal):\n",
    "    speed= 15\n",
    "    \n",
    "    def printInfo(self):\n",
    "        print(f'This dog has a speed of {self.speed} and his name is {self.name}')\n",
    "       #method overriding \n",
    "    def makeSound(self):\n",
    "        noise = 'bark'\n",
    "        print(noise)\n",
    "    \n",
    "griffin = Dog('Griffin', 'lab retrive')\n",
    "\n",
    "griffin.makeSound()\n",
    "# griffin.printInfo()\n",
    "\n",
    "#grandchild class\n",
    "class Mutt(Dog):\n",
    "    def __init__(self, name, species, eye_color, legs=3):\n",
    "        Dog.__init__(self, name, species, legs)\n",
    "        self.eye_color = eye_color\n",
    "        \n",
    "        \n",
    "hank= Mutt('Hank', \"Mutt\", 'Blue')\n",
    "hank.eye_color\n",
    "    "
   ]
  },
  {
   "cell_type": "markdown",
   "metadata": {},
   "source": [
    "##### The \\__init\\__() Method for a Child Class - super()"
   ]
  },
  {
   "cell_type": "code",
   "execution_count": null,
   "metadata": {
    "scrolled": true
   },
   "outputs": [],
   "source": [
    " class Yorkie(Dog):\n",
    "    def __init__(self, name, species, eye_color, legs=4):\n",
    "        super().__init__(name, species, legs)\n",
    "        self.eye_color = eye_color\n",
    "Austin = Yorkie('austin', 'yorkie', 'brown', 3)\n",
    "\n",
    "Austin.legs"
   ]
  },
  {
   "cell_type": "markdown",
   "metadata": {},
   "source": [
    "##### Defining Attributes and Methods for the Child Class"
   ]
  },
  {
   "cell_type": "code",
   "execution_count": null,
   "metadata": {},
   "outputs": [],
   "source": [
    "# See Above"
   ]
  },
  {
   "cell_type": "markdown",
   "metadata": {},
   "source": [
    "##### Method Overriding"
   ]
  },
  {
   "cell_type": "code",
   "execution_count": null,
   "metadata": {},
   "outputs": [],
   "source": [
    "# See Above"
   ]
  },
  {
   "cell_type": "markdown",
   "metadata": {},
   "source": [
    "## Classes as Attributes <br>\n",
    "<p>Classes can also be used as attributes within another class. This is useful in situations where you need to keep variables locally stored, instead of globally stored.</p>"
   ]
  },
  {
   "cell_type": "code",
   "execution_count": null,
   "metadata": {},
   "outputs": [],
   "source": [
    "class Battery():\n",
    "    volts = 7.8\n",
    "    \n",
    "    def __init__(self, cells):\n",
    "        self.cells = cells\n",
    "        \n",
    "class Car():\n",
    "    def __init__(self,year,make,model,battery):\n",
    "        self.year = year\n",
    "        self.make = make\n",
    "        self.model = model\n",
    "        self.battery = battery\n",
    "        \n",
    "    def printInfo(self):\n",
    "        return f'{self.year} {self.make} {self.model} {self.battery.cells}'\n",
    "    \n",
    "battery = Battery(20)\n",
    "\n",
    "telsa = Car(2019, 'Tesla', \"Model X\", battery)\n",
    "\n",
    "print(telsa.battery.cells)\n",
    "telsa.printInfo()"
   ]
  },
  {
   "cell_type": "markdown",
   "metadata": {},
   "source": [
    "# Exercises"
   ]
  },
  {
   "cell_type": "markdown",
   "metadata": {},
   "source": [
    "### Exercise 1 - Turn the shopping cart program from yesterday into an object-oriented program\n",
    "\n",
    "The comments in the cell below are there as a guide for thinking about the problem. However, if you feel a different way is best for you and your own thought process, please do what feels best for you by all means."
   ]
  },
  {
   "cell_type": "code",
   "execution_count": 2,
   "metadata": {},
   "outputs": [],
   "source": [
    "# Create a class called cart that retains items and has methods to add, remove, and show oop\n",
    "\n",
    "class Cart():\n",
    "    kart = [] \n",
    "    \n",
    "\n",
    "    def showCart():\n",
    "        print(\"This are the items in your bag \")\n",
    "        for i in showCart:\n",
    "            print(i)\n",
    "    def addCart():\n",
    "        add = input('What would you like to add to your bag')\n",
    "        kart.append(add)\n",
    "        print(\"Your \"+ add + \" has been added.\")\n",
    "        \n",
    "    def removeCart():\n",
    "        remove = input('what would you like to remove from your bag?')\n",
    "        kart.remove(remove)\n",
    "        print(\"The \" + remove + \"has been removed\")\n",
    "                        \n",
    "            \n",
    "# def shoppinCart():\n",
    "#     total_cart= []\n",
    "#     while True:\n",
    "#         option = input(\"To start you need to add items to the shopping cart then select from Show/Add/Delete/Quit/quantity? : \")\n",
    "#         print(option)\n",
    "#         if option.lower() == \"show\":\n",
    "#             for i in total_cart:\n",
    "#                 print(i)\n",
    "#         elif option.lower() == \"add\":\n",
    "#             add = input(\"Enter the item you want to add: \")\n",
    "#             total_cart.append(add)\n",
    "#             print(\"your\" + add + \" been added to your cart\")\n",
    "#         elif option.lower() == \"delete\":\n",
    "#             delete = input(\"Enter the item that you want to remove: \")\n",
    "#             print(i)\n",
    "#             total_cart.remove(delete)\n",
    "#             print(\"your \" + delete +  \" has been removed from your cart\")\n",
    "#         elif option.lower() == \"quit\":\n",
    "#             print(\"Goodbye\")\n",
    "#             break\n",
    "        \n",
    "            \n",
    "# shoppinCart()"
   ]
  },
  {
   "cell_type": "code",
   "execution_count": 3,
   "metadata": {},
   "outputs": [],
   "source": [
    "kart = []   \n",
    "def hashite():\n",
    "    while True:\n",
    "        response = input('select from the following add, remove, or show ')\n",
    "        \n",
    "        if response.lower() == 'add':\n",
    "            addCart()\n",
    "        \n",
    "        elif response.lower() == 'show':\n",
    "            showCart()\n",
    "           \n",
    "        elif response.lower() == 'remove':\n",
    "            removeCart()\n",
    "        \n",
    "        elif response.lower() == 'quit':\n",
    "            print('Thanks for shopping at Fakebay')\n",
    "            break\n",
    "        else:\n",
    "            print(\"You entered the wrong input try again\")\n",
    "            \n",
    "           \n"
   ]
  },
  {
   "cell_type": "markdown",
   "metadata": {},
   "source": [
    "### Exercise 2 - Write a Python class which has two methods get_String and print_String. get_String accept a string from the user and print_String print the string in upper case"
   ]
  },
  {
   "cell_type": "code",
   "execution_count": null,
   "metadata": {},
   "outputs": [],
   "source": [
    "class Exercise2():\n",
    "    def __init__(self):\n",
    "        self.str1 = \"\"\n",
    "\n",
    "    def get_String(self):\n",
    "        self.str1 = input()\n",
    "\n",
    "    def print_String(self):\n",
    "        print(self.str1.upper())\n",
    "\n",
    "str1 = Exercise2()\n",
    "str1.get_String()\n",
    "str1.print_String()"
   ]
  },
  {
   "cell_type": "code",
   "execution_count": null,
   "metadata": {},
   "outputs": [],
   "source": []
  }
 ],
 "metadata": {
  "kernelspec": {
   "display_name": "Python 3",
   "language": "python",
   "name": "python3"
  },
  "language_info": {
   "codemirror_mode": {
    "name": "ipython",
    "version": 3
   },
   "file_extension": ".py",
   "mimetype": "text/x-python",
   "name": "python",
   "nbconvert_exporter": "python",
   "pygments_lexer": "ipython3",
   "version": "3.8.8"
  }
 },
 "nbformat": 4,
 "nbformat_minor": 2
}
